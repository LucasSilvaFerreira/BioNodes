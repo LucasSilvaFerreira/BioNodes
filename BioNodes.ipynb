{
  "nbformat": 4,
  "nbformat_minor": 0,
  "metadata": {
    "colab": {
      "name": "BioNodes.ipynb",
      "provenance": [],
      "collapsed_sections": [],
      "authorship_tag": "ABX9TyOrQzesgnys1TvV6NVsnqlK",
      "include_colab_link": true
    },
    "kernelspec": {
      "name": "python3",
      "display_name": "Python 3"
    }
  },
  "cells": [
    {
      "cell_type": "markdown",
      "metadata": {
        "id": "view-in-github",
        "colab_type": "text"
      },
      "source": [
        "<a href=\"https://colab.research.google.com/github/LucasSilvaFerreira/BioNodes/blob/master/BioNodes.ipynb\" target=\"_parent\"><img src=\"https://colab.research.google.com/assets/colab-badge.svg\" alt=\"Open In Colab\"/></a>"
      ]
    },
    {
      "cell_type": "code",
      "metadata": {
        "id": "-0ou_TtIwvmt",
        "colab_type": "code",
        "colab": {}
      },
      "source": [
        "import re \n",
        "from rich import print\n",
        "from rich.columns import Columns\n",
        "from rich.panel import Panel\n",
        "from bokeh.plotting import figure\n",
        "from bokeh.io import output_notebook, show \n",
        "from bokeh.models import Label\n",
        "\n",
        "\n"
      ],
      "execution_count": 59,
      "outputs": []
    },
    {
      "cell_type": "code",
      "metadata": {
        "id": "SmG1DZk4bUJN",
        "colab_type": "code",
        "colab": {}
      },
      "source": [
        "!pip install rich"
      ],
      "execution_count": 6,
      "outputs": []
    },
    {
      "cell_type": "code",
      "metadata": {
        "id": "i1A2eAOVvay3",
        "colab_type": "code",
        "colab": {}
      },
      "source": [
        "cmd_txt = '''tophat --solexa-quals -g 2 -p 8 --library-type fr-unstranded -j\n",
        "annotation/Danio_rerio.Zv9.66.spliceSites -o tophat/ZV9_2cells\n",
        "genome/ZV9 data/2cells_1.fastq data/2cells_2.fastq'''"
      ],
      "execution_count": 60,
      "outputs": []
    },
    {
      "cell_type": "code",
      "metadata": {
        "id": "r_e9bdgDwsuE",
        "colab_type": "code",
        "colab": {
          "base_uri": "https://localhost:8080/",
          "height": 34
        },
        "outputId": "8de50f7d-f2f5-4194-bd08-9e8703cef104"
      },
      "source": [
        "cmd_txt = re.sub(' |\\t|\\n+', ' ', cmd_txt)\n",
        "cmd_txt"
      ],
      "execution_count": 61,
      "outputs": [
        {
          "output_type": "execute_result",
          "data": {
            "text/plain": [
              "'tophat --solexa-quals -g 2 -p 8 --library-type fr-unstranded -j annotation/Danio_rerio.Zv9.66.spliceSites -o tophat/ZV9_2cells genome/ZV9 data/2cells_1.fastq data/2cells_2.fastq'"
            ]
          },
          "metadata": {
            "tags": []
          },
          "execution_count": 61
        }
      ]
    },
    {
      "cell_type": "code",
      "metadata": {
        "id": "hRMIkvF8pZjX",
        "colab_type": "code",
        "colab": {}
      },
      "source": [
        "# output_notebook()\n",
        "# def plot_node(list_node):\n",
        "#   top = [(n+1.3) -0.1 for n, b in enumerate(list_node)]\n",
        "#   bot = [(n+0.8)  for n, b in enumerate(list_node)]  \n",
        "#   p = figure(plot_width=400, plot_height=400)\n",
        "#   p.quad(top=top, bottom=bot, left=[1, 1, 1],\n",
        "#           right=[3, 3, 3], color=['#787878', '#787878', '#787878'],fill_alpha=0.3,line_width=2, )\n",
        "\n",
        "#   for e, b in enumerate(list_node):\n",
        "      \n",
        "#       p.add_layout(Label(x=1.7, y=e+1, text=b.__str__()))\n",
        "#   p.axis.visible = False\n",
        "#   show(p)"
      ],
      "execution_count": 62,
      "outputs": []
    },
    {
      "cell_type": "code",
      "metadata": {
        "id": "vt5F-FRhxYVf",
        "colab_type": "code",
        "colab": {}
      },
      "source": [
        "from enum import Enum\n",
        "\n",
        "class FileType(Enum):\n",
        "    TXT=0\n",
        "    BAM=1\n",
        "\n",
        "\n",
        "class Slot():\n",
        "  def __init__(self, name, slot_type, description='No Description'):\n",
        "    self.name= name\n",
        "    assert isinstance(slot_type, Enum), 'slot_type Should be a FileType'\n",
        "    self.slot_type = slot_type\n",
        "    self.description = description\n",
        "\n",
        "  def __repr__(self):\n",
        "    out_repr = f\"{self.name} \\n {self.slot_type} \\n {self.description}\"\n",
        "    return out_repr\n",
        "\n",
        "  \n",
        "\n",
        "\n",
        "  \n",
        "\n",
        "\n",
        "class Tool():\n",
        "  def __init__(self, name):\n",
        "\n",
        "    self.name = name\n",
        "    self.in_slots     = {}\n",
        "    self.out_slots    = {}\n",
        "    self.add_property = {}\n",
        "\n",
        "  def add_in_slot(self, slot):\n",
        "    assert slot.name not in self.in_slots,  f'This  slot.name : {slot.name}  already exists!'\n",
        "    self.in_slots[slot.name] = slot\n",
        "\n",
        "      \n",
        "\n",
        "  def add_out_slot(self, slot):\n",
        "      assert slot.name not in  self.out_slots, f'This  slot.name : {slot.name}  already exists!'\n",
        "      self.out_slots[slot.name] = slot\n",
        "\n",
        "  def get_in_slot_by_name(self, name):\n",
        "         return self.in_slots[name]\n",
        "\n",
        "  def get_out_slot_by_name(self, name):\n",
        "         return self.out_slots[name]\n",
        "\n",
        "  def __get_all_slots(self, slot_type):\n",
        "    if slot_type =='in':\n",
        "        slot_to_get = self.in_slots\n",
        "        t_tring = 'INPUT'\n",
        "    if slot_type =='out':\n",
        "        slot_to_get = self.out_slots\n",
        "        t_tring = 'OUTPUT'\n",
        "\n",
        "    final_string = []\n",
        "    final_string.append(f'       <<{t_tring} SLOTS>>')\n",
        "    for k, s in slot_to_get.items():\n",
        "      final_string.append('-'* 30)\n",
        "      final_string.append(f\"{s}\")\n",
        "    final_string.append('-'* 30)\n",
        "    return final_string\n",
        "  \n",
        "  def show_slots_in(self):\n",
        "    print ('\\n'.join(self.__get_all_slots(\"in\")))\n",
        "\n",
        "  def show_slots_out(self):\n",
        "    print ('\\n'.join(self.__get_all_slots(\"out\")))\n",
        "\n",
        "\n",
        "  def connect(self, this_out, input_object, input_slot_name):\n",
        "    bind_out = self.get_in_slot_by_name(this_out)\n",
        "    bind_in = input_object.get_out_slot_by_name(input_slot_name)\n",
        "    assert bind_out.slot_type == bind_in.slot_type, f'{bind_out.slot_type} > is not compatible with >  {bind_in.slot_type}'\n",
        "    return True\n",
        "\n",
        "class File_input(Tool):\n",
        "  def __init__(self, name, file_in):\n",
        "        super().__init__(name)\n",
        "        self.file_in = file_in\n",
        "        self.add_out_slot(Slot('File', self.get_extension() )) \n",
        "\n",
        "  def __repr__(self):\n",
        "      self.show_slots_out()\n",
        "      return self.name\n",
        "\n",
        "\n",
        "\n",
        "  def get_extension(self):\n",
        "      try: \n",
        "          return FileType[ self.file_in.split('.')[-1].upper()]\n",
        "      except KeyError:\n",
        "          print (f\"Cant recognize the extension .{self.file_in.split('.')[-1].upper()}\")\n",
        "\n",
        "\n",
        "\n",
        "\n",
        "\n",
        "\n"
      ],
      "execution_count": 294,
      "outputs": []
    },
    {
      "cell_type": "code",
      "metadata": {
        "id": "ruY6T6P6cSD5",
        "colab_type": "code",
        "colab": {}
      },
      "source": [
        "\n"
      ],
      "execution_count": 294,
      "outputs": []
    },
    {
      "cell_type": "code",
      "metadata": {
        "id": "GiaEFdCSKrAk",
        "colab_type": "code",
        "colab": {
          "base_uri": "https://localhost:8080/",
          "height": 289
        },
        "outputId": "c7229ad9-98b7-437a-92b2-672926eaf90b"
      },
      "source": [
        "\n",
        "test  = Tool('Teste')\n",
        "test.add_in_slot(Slot('Txt_raw',    FileType.TXT))\n",
        "test.add_in_slot(Slot('Bam_file', FileType.BAM))\n",
        "test.add_out_slot(Slot('Stranded_bam', FileType.BAM))\n",
        "test.show_slots_in()\n",
        "test.show_slots_out()"
      ],
      "execution_count": 295,
      "outputs": [
        {
          "output_type": "stream",
          "text": [
            "       <<INPUT SLOTS>>\n",
            "------------------------------\n",
            "Txt_raw \n",
            " FileType.TXT \n",
            " No Description\n",
            "------------------------------\n",
            "Bam_file \n",
            " FileType.BAM \n",
            " No Description\n",
            "------------------------------\n",
            "       <<OUTPUT SLOTS>>\n",
            "------------------------------\n",
            "Stranded_bam \n",
            " FileType.BAM \n",
            " No Description\n",
            "------------------------------\n"
          ],
          "name": "stdout"
        }
      ]
    },
    {
      "cell_type": "code",
      "metadata": {
        "id": "N1r395UtPFZt",
        "colab_type": "code",
        "colab": {
          "base_uri": "https://localhost:8080/",
          "height": 136
        },
        "outputId": "28a730fc-2552-4d16-ac21-f02c10c84d2f"
      },
      "source": [
        "f1 = File_input('teste_txt', 'teste/files/teste.txt') \n",
        "f1.show_slots_out()\n",
        "f2 = File_input('bam_test', 'teste/files/teste.bam')\n",
        "\n",
        "\n",
        "\n",
        "test.connect('Txt_raw', f1, 'File')\n"
      ],
      "execution_count": 298,
      "outputs": [
        {
          "output_type": "stream",
          "text": [
            "       <<OUTPUT SLOTS>>\n",
            "------------------------------\n",
            "File \n",
            " FileType.TXT \n",
            " No Description\n",
            "------------------------------\n"
          ],
          "name": "stdout"
        },
        {
          "output_type": "execute_result",
          "data": {
            "text/plain": [
              "True"
            ]
          },
          "metadata": {
            "tags": []
          },
          "execution_count": 298
        }
      ]
    },
    {
      "cell_type": "code",
      "metadata": {
        "id": "zJfx3bf-liav",
        "colab_type": "code",
        "colab": {
          "base_uri": "https://localhost:8080/",
          "height": 283
        },
        "outputId": "f30bf00e-eb6e-42cc-eb69-6cee3db5706d"
      },
      "source": [
        "test.connect('Bam_file', f1, 'File')"
      ],
      "execution_count": 300,
      "outputs": [
        {
          "output_type": "error",
          "ename": "AssertionError",
          "evalue": "ignored",
          "traceback": [
            "\u001b[0;31m---------------------------------------------------------------------------\u001b[0m",
            "\u001b[0;31mAssertionError\u001b[0m                            Traceback (most recent call last)",
            "\u001b[0;32m<ipython-input-300-5284a18323fd>\u001b[0m in \u001b[0;36m<module>\u001b[0;34m()\u001b[0m\n\u001b[0;32m----> 1\u001b[0;31m \u001b[0mtest\u001b[0m\u001b[0;34m.\u001b[0m\u001b[0mconnect\u001b[0m\u001b[0;34m(\u001b[0m\u001b[0;34m'Bam_file'\u001b[0m\u001b[0;34m,\u001b[0m \u001b[0mf1\u001b[0m\u001b[0;34m,\u001b[0m \u001b[0;34m'File'\u001b[0m\u001b[0;34m)\u001b[0m\u001b[0;34m\u001b[0m\u001b[0;34m\u001b[0m\u001b[0m\n\u001b[0m",
            "\u001b[0;32m<ipython-input-294-68b53facb493>\u001b[0m in \u001b[0;36mconnect\u001b[0;34m(self, this_out, input_object, input_slot_name)\u001b[0m\n\u001b[1;32m     73\u001b[0m     \u001b[0mbind_out\u001b[0m \u001b[0;34m=\u001b[0m \u001b[0mself\u001b[0m\u001b[0;34m.\u001b[0m\u001b[0mget_in_slot_by_name\u001b[0m\u001b[0;34m(\u001b[0m\u001b[0mthis_out\u001b[0m\u001b[0;34m)\u001b[0m\u001b[0;34m\u001b[0m\u001b[0;34m\u001b[0m\u001b[0m\n\u001b[1;32m     74\u001b[0m     \u001b[0mbind_in\u001b[0m \u001b[0;34m=\u001b[0m \u001b[0minput_object\u001b[0m\u001b[0;34m.\u001b[0m\u001b[0mget_out_slot_by_name\u001b[0m\u001b[0;34m(\u001b[0m\u001b[0minput_slot_name\u001b[0m\u001b[0;34m)\u001b[0m\u001b[0;34m\u001b[0m\u001b[0;34m\u001b[0m\u001b[0m\n\u001b[0;32m---> 75\u001b[0;31m     \u001b[0;32massert\u001b[0m \u001b[0mbind_out\u001b[0m\u001b[0;34m.\u001b[0m\u001b[0mslot_type\u001b[0m \u001b[0;34m==\u001b[0m \u001b[0mbind_in\u001b[0m\u001b[0;34m.\u001b[0m\u001b[0mslot_type\u001b[0m\u001b[0;34m,\u001b[0m \u001b[0;34mf'{bind_out.slot_type} > is not compatible with >  {bind_in.slot_type}'\u001b[0m\u001b[0;34m\u001b[0m\u001b[0;34m\u001b[0m\u001b[0m\n\u001b[0m\u001b[1;32m     76\u001b[0m     \u001b[0;32mreturn\u001b[0m \u001b[0;32mTrue\u001b[0m\u001b[0;34m\u001b[0m\u001b[0;34m\u001b[0m\u001b[0m\n\u001b[1;32m     77\u001b[0m \u001b[0;34m\u001b[0m\u001b[0m\n",
            "\u001b[0;31mAssertionError\u001b[0m: FileType.BAM > is not compatible with >  FileType.TXT"
          ]
        }
      ]
    },
    {
      "cell_type": "code",
      "metadata": {
        "id": "kf_am_PRExcK",
        "colab_type": "code",
        "colab": {
          "base_uri": "https://localhost:8080/",
          "height": 34
        },
        "outputId": "b117f1cc-b177-4594-8f0a-16b3f9c984a7"
      },
      "source": [
        "\\dir(FileType)"
      ],
      "execution_count": 140,
      "outputs": [
        {
          "output_type": "execute_result",
          "data": {
            "text/plain": [
              "['BAM', 'TXT', '__class__', '__doc__', '__members__', '__module__']"
            ]
          },
          "metadata": {
            "tags": []
          },
          "execution_count": 140
        }
      ]
    },
    {
      "cell_type": "code",
      "metadata": {
        "id": "KhvPULKaRfqy",
        "colab_type": "code",
        "colab": {
          "base_uri": "https://localhost:8080/",
          "height": 34
        },
        "outputId": "07bdf50b-1783-485e-f91b-c66470aade5d"
      },
      "source": [
        ""
      ],
      "execution_count": 143,
      "outputs": [
        {
          "output_type": "execute_result",
          "data": {
            "text/plain": [
              "<enum 'FileType'>"
            ]
          },
          "metadata": {
            "tags": []
          },
          "execution_count": 143
        }
      ]
    },
    {
      "cell_type": "code",
      "metadata": {
        "id": "IzUlnrqASvHA",
        "colab_type": "code",
        "colab": {}
      },
      "source": [
        ""
      ],
      "execution_count": null,
      "outputs": []
    }
  ]
}